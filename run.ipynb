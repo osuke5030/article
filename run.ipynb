{
 "cells": [
  {
   "cell_type": "code",
   "execution_count": null,
   "id": "82a67cd1",
   "metadata": {},
   "outputs": [],
   "source": [
    "def isValid(s: str) -> bool:\n",
    "    stack = []\n",
    "    pushChars = \"<({[\"\n",
    "    popChars =  \">)}]\"\n",
    "    for c in str :\n",
    "        if c in pushChars :\n",
    "            stack.append(c)\n",
    "        elif c in popChars :\n",
    "            if not len(stack) :\n",
    "                return False\n",
    "            else :\n",
    "                stackTop = stack.pop()\n",
    "                balancingBracket = pushChars[popChars.index(c)]\n",
    "            if stackTop != balancingBracket :\n",
    "                return False\n",
    "            else :\n",
    "                return False\n",
    "    return not len(stack)\n",
    "\n",
    "s = '()'\n",
    "print(isValid(s)) # True\n",
    "\n",
    "s = '({)}'\n",
    "print(isValid(s)) # False\n",
    "```"
   ]
  }
 ],
 "metadata": {
  "kernelspec": {
   "display_name": "Python 3 (ipykernel)",
   "language": "python",
   "name": "python3"
  },
  "language_info": {
   "codemirror_mode": {
    "name": "ipython",
    "version": 3
   },
   "file_extension": ".py",
   "mimetype": "text/x-python",
   "name": "python",
   "nbconvert_exporter": "python",
   "pygments_lexer": "ipython3",
   "version": "3.9.12"
  }
 },
 "nbformat": 4,
 "nbformat_minor": 5
}
