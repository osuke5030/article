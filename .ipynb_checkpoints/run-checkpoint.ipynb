{
 "cells": [
  {
   "cell_type": "code",
   "execution_count": 100,
   "id": "7e6c58eb",
   "metadata": {},
   "outputs": [],
   "source": [
    "# ```python\n",
    "\n",
    "dict = { '(' : ')' , '[' : ']' , '{' : '}' }\n",
    "\n",
    "def check_function(str):\n",
    "    list=[]\n",
    "    for a in str:\n",
    "        if dict.get(a):\n",
    "            list.append(a)\n",
    "        elif dict.get(a) == None:\n",
    "            if list==[]:\n",
    "                return False\n",
    "            elif a != dict.get(list.pop()):\n",
    "                return False\n",
    "    return True"
   ]
  },
  {
   "cell_type": "code",
   "execution_count": 101,
   "id": "76064956",
   "metadata": {},
   "outputs": [
    {
     "data": {
      "text/plain": [
       "True"
      ]
     },
     "execution_count": 101,
     "metadata": {},
     "output_type": "execute_result"
    }
   ],
   "source": [
    "check_function(\"{{{{{}}}}}\")"
   ]
  },
  {
   "cell_type": "code",
   "execution_count": null,
   "id": "a88389cc",
   "metadata": {},
   "outputs": [],
   "source": []
  }
 ],
 "metadata": {
  "kernelspec": {
   "display_name": "Python 3 (ipykernel)",
   "language": "python",
   "name": "python3"
  },
  "language_info": {
   "codemirror_mode": {
    "name": "ipython",
    "version": 3
   },
   "file_extension": ".py",
   "mimetype": "text/x-python",
   "name": "python",
   "nbconvert_exporter": "python",
   "pygments_lexer": "ipython3",
   "version": "3.9.12"
  }
 },
 "nbformat": 4,
 "nbformat_minor": 5
}
